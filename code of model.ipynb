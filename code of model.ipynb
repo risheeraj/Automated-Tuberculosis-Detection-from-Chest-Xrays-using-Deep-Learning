{
  "nbformat": 4,
  "nbformat_minor": 0,
  "metadata": {
    "colab": {
      "provenance": []
    },
    "kernelspec": {
      "name": "python3",
      "display_name": "Python 3"
    },
    "language_info": {
      "name": "python"
    }
  },
  "cells": [
    {
      "cell_type": "code",
      "source": [
        "'''# IMPORTANT: RUN THIS CELL IN ORDER TO IMPORT YOUR KAGGLE DATA SOURCES\n",
        "# TO THE CORRECT LOCATION (/kaggle/input) IN YOUR NOTEBOOK,\n",
        "# THEN FEEL FREE TO DELETE THIS CELL.\n",
        "# NOTE: THIS NOTEBOOK ENVIRONMENT DIFFERS FROM KAGGLE'S PYTHON\n",
        "# ENVIRONMENT SO THERE MAY BE MISSING LIBRARIES USED BY YOUR\n",
        "# NOTEBOOK.\n",
        "\n",
        "import os\n",
        "import sys\n",
        "from tempfile import NamedTemporaryFile\n",
        "from urllib.request import urlopen\n",
        "from urllib.parse import unquote, urlparse\n",
        "from urllib.error import HTTPError\n",
        "from zipfile import ZipFile\n",
        "import tarfile\n",
        "import shutil\n",
        "\n",
        "CHUNK_SIZE = 40960\n",
        "DATA_SOURCE_MAPPING = 'tuberculosis-tb-chest-xray-dataset:https%3A%2F%2Fstorage.googleapis.com%2Fkaggle-data-sets%2F891819%2F2332307%2Fbundle%2Farchive.zip%3FX-Goog-Algorithm%3DGOOG4-RSA-SHA256%26X-Goog-Credential%3Dgcp-kaggle-com%2540kaggle-161607.iam.gserviceaccount.com%252F20240211%252Fauto%252Fstorage%252Fgoog4_request%26X-Goog-Date%3D20240211T195646Z%26X-Goog-Expires%3D259200%26X-Goog-SignedHeaders%3Dhost%26X-Goog-Signature%3D7afcc0aa529562bf6aca8bde43c7b0b027e12043d501cf82e452fcb7a78a684df1d8355c9501bb06b86261f0d931f5550c6433d0906e4d0c0f1bc888d67f5d3c41201a0ccbde83d2197660f4bec1d10859609f27f9c6237fde2b6cb094a676645d5e139c36ed1e2a255b09efe190049771ff7e476fc1345aa7911ad535f07119cd15a672609aab96d43a33e53d4ebed989f96af9b02b5b0713079411141d591971fe7e718305afc549e2424ced387c049b3f08ae7d92f5df6f9e5ad68b351627b521518176f6094bdc2ed3cf7a564d4dbfeea221a0f0c0fbe47eb7f9b76b15f2a6ef61bb28f5d829f20b88100492f25f1d0a1a76523bc3c71f5035ddec20f07e'\n",
        "\n",
        "KAGGLE_INPUT_PATH='/kaggle/input'\n",
        "KAGGLE_WORKING_PATH='/kaggle/working'\n",
        "KAGGLE_SYMLINK='kaggle'\n",
        "\n",
        "!umount /kaggle/input/ 2> /dev/null\n",
        "shutil.rmtree('/kaggle/input', ignore_errors=True)\n",
        "os.makedirs(KAGGLE_INPUT_PATH, 0o777, exist_ok=True)\n",
        "os.makedirs(KAGGLE_WORKING_PATH, 0o777, exist_ok=True)\n",
        "\n",
        "try:\n",
        "  os.symlink(KAGGLE_INPUT_PATH, os.path.join(\"..\", 'input'), target_is_directory=True)\n",
        "except FileExistsError:\n",
        "  pass\n",
        "try:\n",
        "  os.symlink(KAGGLE_WORKING_PATH, os.path.join(\"..\", 'working'), target_is_directory=True)\n",
        "except FileExistsError:\n",
        "  pass\n",
        "\n",
        "for data_source_mapping in DATA_SOURCE_MAPPING.split(','):\n",
        "    directory, download_url_encoded = data_source_mapping.split(':')\n",
        "    download_url = unquote(download_url_encoded)\n",
        "    filename = urlparse(download_url).path\n",
        "    destination_path = os.path.join(KAGGLE_INPUT_PATH, directory)\n",
        "    try:\n",
        "        with urlopen(download_url) as fileres, NamedTemporaryFile() as tfile:\n",
        "            total_length = fileres.headers['content-length']\n",
        "            print(f'Downloading {directory}, {total_length} bytes compressed')\n",
        "            dl = 0\n",
        "            data = fileres.read(CHUNK_SIZE)\n",
        "            while len(data) > 0:\n",
        "                dl += len(data)\n",
        "                tfile.write(data)\n",
        "                done = int(50 * dl / int(total_length))\n",
        "                sys.stdout.write(f\"\\r[{'=' * done}{' ' * (50-done)}] {dl} bytes downloaded\")\n",
        "                sys.stdout.flush()\n",
        "                data = fileres.read(CHUNK_SIZE)\n",
        "            if filename.endswith('.zip'):\n",
        "              with ZipFile(tfile) as zfile:\n",
        "                zfile.extractall(destination_path)\n",
        "            else:\n",
        "              with tarfile.open(tfile.name) as tarfile:\n",
        "                tarfile.extractall(destination_path)\n",
        "            print(f'\\nDownloaded and uncompressed: {directory}')\n",
        "    except HTTPError as e:\n",
        "        print(f'Failed to load (likely expired) {download_url} to path {destination_path}')\n",
        "        continue\n",
        "    except OSError as e:\n",
        "        print(f'Failed to load {download_url} to path {destination_path}')\n",
        "        continue\n",
        "\n",
        "print('Data source import complete.')'''"
      ],
      "metadata": {
        "colab": {
          "base_uri": "https://localhost:8080/",
          "height": 174
        },
        "id": "nNTRj7XB6dhm",
        "outputId": "40bfc7a0-ae4e-4f91-dd1e-2b0e30c9bf49"
      },
      "execution_count": 3,
      "outputs": [
        {
          "output_type": "execute_result",
          "data": {
            "text/plain": [
              "'# IMPORTANT: RUN THIS CELL IN ORDER TO IMPORT YOUR KAGGLE DATA SOURCES\\n# TO THE CORRECT LOCATION (/kaggle/input) IN YOUR NOTEBOOK,\\n# THEN FEEL FREE TO DELETE THIS CELL.\\n# NOTE: THIS NOTEBOOK ENVIRONMENT DIFFERS FROM KAGGLE\\'S PYTHON\\n# ENVIRONMENT SO THERE MAY BE MISSING LIBRARIES USED BY YOUR\\n# NOTEBOOK.\\n\\nimport os\\nimport sys\\nfrom tempfile import NamedTemporaryFile\\nfrom urllib.request import urlopen\\nfrom urllib.parse import unquote, urlparse\\nfrom urllib.error import HTTPError\\nfrom zipfile import ZipFile\\nimport tarfile\\nimport shutil\\n\\nCHUNK_SIZE = 40960\\nDATA_SOURCE_MAPPING = \\'tuberculosis-tb-chest-xray-dataset:https%3A%2F%2Fstorage.googleapis.com%2Fkaggle-data-sets%2F891819%2F2332307%2Fbundle%2Farchive.zip%3FX-Goog-Algorithm%3DGOOG4-RSA-SHA256%26X-Goog-Credential%3Dgcp-kaggle-com%2540kaggle-161607.iam.gserviceaccount.com%252F20240211%252Fauto%252Fstorage%252Fgoog4_request%26X-Goog-Date%3D20240211T195646Z%26X-Goog-Expires%3D259200%26X-Goog-SignedHeaders%3Dhost%26X-Goog-Signature%3D7afcc0aa529562bf6aca8bde43c7b0b027e12043d501cf82e452fcb7a78a684df1d8355c9501bb06b86261f0d931f5550c6433d0906e4d0c0f1bc888d67f5d3c41201a0ccbde83d2197660f4bec1d10859609f27f9c6237fde2b6cb094a676645d5e139c36ed1e2a255b09efe190049771ff7e476fc1345aa7911ad535f07119cd15a672609aab96d43a33e53d4ebed989f96af9b02b5b0713079411141d591971fe7e718305afc549e2424ced387c049b3f08ae7d92f5df6f9e5ad68b351627b521518176f6094bdc2ed3cf7a564d4dbfeea221a0f0c0fbe47eb7f9b76b15f2a6ef61bb28f5d829f20b88100492f25f1d0a1a76523bc3c71f5035ddec20f07e\\'\\n\\nKAGGLE_INPUT_PATH=\\'/kaggle/input\\'\\nKAGGLE_WORKING_PATH=\\'/kaggle/working\\'\\nKAGGLE_SYMLINK=\\'kaggle\\'\\n\\n!umount /kaggle/input/ 2> /dev/null\\nshutil.rmtree(\\'/kaggle/input\\', ignore_errors=True)\\nos.makedirs(KAGGLE_INPUT_PATH, 0o777, exist_ok=True)\\nos.makedirs(KAGGLE_WORKING_PATH, 0o777, exist_ok=True)\\n\\ntry:\\n  os.symlink(KAGGLE_INPUT_PATH, os.path.join(\"..\", \\'input\\'), target_is_directory=True)\\nexcept FileExistsError:\\n  pass\\ntry:\\n  os.symlink(KAGGLE_WORKING_PATH, os.path.join(\"..\", \\'working\\'), target_is_directory=True)\\nexcept FileExistsError:\\n  pass\\n\\nfor data_source_mapping in DATA_SOURCE_MAPPING.split(\\',\\'):\\n    directory, download_url_encoded = data_source_mapping.split(\\':\\')\\n    download_url = unquote(download_url_encoded)\\n    filename = urlparse(download_url).path\\n    destination_path = os.path.join(KAGGLE_INPUT_PATH, directory)\\n    try:\\n        with urlopen(download_url) as fileres, NamedTemporaryFile() as tfile:\\n            total_length = fileres.headers[\\'content-length\\']\\n            print(f\\'Downloading {directory}, {total_length} bytes compressed\\')\\n            dl = 0\\n            data = fileres.read(CHUNK_SIZE)\\n            while len(data) > 0:\\n                dl += len(data)\\n                tfile.write(data)\\n                done = int(50 * dl / int(total_length))\\n                sys.stdout.write(f\"\\r[{\\'=\\' * done}{\\' \\' * (50-done)}] {dl} bytes downloaded\")\\n                sys.stdout.flush()\\n                data = fileres.read(CHUNK_SIZE)\\n            if filename.endswith(\\'.zip\\'):\\n              with ZipFile(tfile) as zfile:\\n                zfile.extractall(destination_path)\\n            else:\\n              with tarfile.open(tfile.name) as tarfile:\\n                tarfile.extractall(destination_path)\\n            print(f\\'\\nDownloaded and uncompressed: {directory}\\')\\n    except HTTPError as e:\\n        print(f\\'Failed to load (likely expired) {download_url} to path {destination_path}\\')\\n        continue\\n    except OSError as e:\\n        print(f\\'Failed to load {download_url} to path {destination_path}\\')\\n        continue\\n\\nprint(\\'Data source import complete.\\')'"
            ],
            "application/vnd.google.colaboratory.intrinsic+json": {
              "type": "string"
            }
          },
          "metadata": {},
          "execution_count": 3
        }
      ]
    },
    {
      "cell_type": "code",
      "source": [
        "'''from google.colab import drive\n",
        "drive.mount('/content/drive')'''"
      ],
      "metadata": {
        "colab": {
          "base_uri": "https://localhost:8080/",
          "height": 35
        },
        "id": "UBEM6wOK4FPi",
        "outputId": "487ffb8f-5f9c-46e0-cf46-06ad2d2fafee"
      },
      "execution_count": 4,
      "outputs": [
        {
          "output_type": "execute_result",
          "data": {
            "text/plain": [
              "\"from google.colab import drive\\ndrive.mount('/content/drive')\""
            ],
            "application/vnd.google.colaboratory.intrinsic+json": {
              "type": "string"
            }
          },
          "metadata": {},
          "execution_count": 4
        }
      ]
    },
    {
      "cell_type": "code",
      "source": [
        "import numpy as np\n",
        "\n",
        "data = np.load(\"/content/drive/MyDrive/augmented_data.npz\")\n",
        "tb_augmented = data[\"images\"]\n",
        "target_tb_augmented = data[\"labels\"]"
      ],
      "metadata": {
        "id": "UhS3hN9l4g6_"
      },
      "execution_count": 5,
      "outputs": []
    },
    {
      "cell_type": "code",
      "source": [
        "tb_augmented.shape"
      ],
      "metadata": {
        "id": "N-aB4IDqug4P",
        "colab": {
          "base_uri": "https://localhost:8080/"
        },
        "outputId": "b0384583-cc0a-4f37-84ac-fc3a06d54c94"
      },
      "execution_count": 6,
      "outputs": [
        {
          "output_type": "execute_result",
          "data": {
            "text/plain": [
              "(3500, 128, 128, 3)"
            ]
          },
          "metadata": {},
          "execution_count": 6
        }
      ]
    },
    {
      "cell_type": "code",
      "source": [
        "from PIL import Image\n",
        "import seaborn as sns\n",
        "import matplotlib.pyplot as plt"
      ],
      "metadata": {
        "id": "RI5gtqBy54co"
      },
      "execution_count": 7,
      "outputs": []
    },
    {
      "cell_type": "code",
      "source": [
        "def show_image(images, target, title, num_display=16, num_cols=4, cmap='gray', random_mode=False):\n",
        "    '''\n",
        "    :Parameters\n",
        "        images (ndarray (n,)): Input data as a numpy array.\n",
        "        target (ndarray (n,)): Target data as a numpy array.\n",
        "        title (String): Title of the plot.\n",
        "        num_display (int): Number of images to display. Default is 16.\n",
        "        num_cols (int): Number of columns in the plot. Default is 4.\n",
        "        cmap (str): Color map for displaying images. Default is 'gray'.\n",
        "        random_mode (bool): If True, display images randomly. If False, display the first num_display images. Default is False.\n",
        "    '''\n",
        "    # Determine the number of rows based on the num_cols parameter\n",
        "    n_cols = min(num_cols, num_display)\n",
        "    n_rows = int(np.ceil(num_display / n_cols))\n",
        "\n",
        "    n_images = min(num_display, len(images))\n",
        "    if random_mode:\n",
        "        random_indices = np.random.choice(\n",
        "            len(images), num_display, replace=False)\n",
        "    else:\n",
        "        random_indices = np.arange(num_display)\n",
        "\n",
        "    fig, axes = plt.subplots(\n",
        "        nrows=n_rows, ncols=n_cols, figsize=(20, 4*n_rows))\n",
        "    for i, ax in enumerate(axes.flatten()):\n",
        "        if i >= n_images:  # Check if the index exceeds the available number of images\n",
        "            break\n",
        "        # Incase (Did PCA)\n",
        "        index = random_indices[i]\n",
        "        if len(images.shape) == 2:\n",
        "            image = images[index].reshape((128, 128)).astype(int)\n",
        "        else:\n",
        "            image = images[index]\n",
        "\n",
        "        ax.imshow(image, cmap=cmap)\n",
        "        ax.set_title(\"Target: {}\".format(target[index]))\n",
        "\n",
        "        # Add image index as text\n",
        "        ax.text(0.5, -0.15, f'Image Index: {index}', transform=ax.transAxes,\n",
        "                fontsize=10, ha='center')\n",
        "\n",
        "    plt.suptitle(f\"{title} (Displaying {num_display} Images)\",\n",
        "                 fontsize=16, fontweight='bold')\n",
        "\n",
        "    fig.set_facecolor('white')\n",
        "    plt.tight_layout()\n",
        "    return plt.show()"
      ],
      "metadata": {
        "id": "fEr-G8Jh5wF6"
      },
      "execution_count": 8,
      "outputs": []
    },
    {
      "cell_type": "code",
      "source": [
        "'''show_image(images=tb_augmented[700:-1],\n",
        "           target=target_tb_augmented[700:-1],\n",
        "           title='Augmented Tuberculosis data',\n",
        "           num_display=64,\n",
        "           num_cols=8,\n",
        "           cmap='gray',\n",
        "           random_mode=False)'''"
      ],
      "metadata": {
        "id": "iY4eXMnkulv9",
        "colab": {
          "base_uri": "https://localhost:8080/",
          "height": 70
        },
        "outputId": "c5c7343b-4c08-4028-8069-97c899318549"
      },
      "execution_count": 9,
      "outputs": [
        {
          "output_type": "execute_result",
          "data": {
            "text/plain": [
              "\"show_image(images=tb_augmented[700:-1],\\n           target=target_tb_augmented[700:-1],\\n           title='Augmented Tuberculosis data',\\n           num_display=64,\\n           num_cols=8,\\n           cmap='gray',\\n           random_mode=False)\""
            ],
            "application/vnd.google.colaboratory.intrinsic+json": {
              "type": "string"
            }
          },
          "metadata": {},
          "execution_count": 9
        }
      ]
    },
    {
      "cell_type": "code",
      "source": [
        "'''for i in range(1,5):\n",
        "    image = Image.open(\n",
        "        f'../input/tuberculosis-tb-chest-xray-dataset/TB_Chest_Radiography_Database/Normal/Normal-{i}.png')\n",
        "    print(image.mode)\n",
        "    print(image.size)\n",
        "    plt.imshow(image)\n",
        "    plt.show()'''"
      ],
      "metadata": {
        "colab": {
          "base_uri": "https://localhost:8080/",
          "height": 53
        },
        "id": "shaEcFQg7PYB",
        "outputId": "91c54051-57cd-4017-e723-84067423962c"
      },
      "execution_count": 10,
      "outputs": [
        {
          "output_type": "execute_result",
          "data": {
            "text/plain": [
              "\"for i in range(1,5):\\n    image = Image.open(\\n        f'../input/tuberculosis-tb-chest-xray-dataset/TB_Chest_Radiography_Database/Normal/Normal-{i}.png')\\n    print(image.mode)\\n    print(image.size)\\n    plt.imshow(image)\\n    plt.show()\""
            ],
            "application/vnd.google.colaboratory.intrinsic+json": {
              "type": "string"
            }
          },
          "metadata": {},
          "execution_count": 10
        }
      ]
    },
    {
      "cell_type": "code",
      "source": [
        "import numpy as np\n",
        "from numpy import asarray\n",
        "import os\n",
        "from tqdm import tqdm"
      ],
      "metadata": {
        "id": "OkSR3qXH7VRG"
      },
      "execution_count": 11,
      "outputs": []
    },
    {
      "cell_type": "code",
      "source": [
        "dir_path = '../input/tuberculosis-tb-chest-xray-dataset/TB_Chest_Radiography_Database/'"
      ],
      "metadata": {
        "id": "UORQx9uF7dzB"
      },
      "execution_count": 12,
      "outputs": []
    },
    {
      "cell_type": "code",
      "source": [
        "def numpize(subset: str, img_size=(128, 128), grayscale=False):\n",
        "    \"\"\"\n",
        "    Convert a set of images from a specified subset to NumPy arrays.\n",
        "\n",
        "    Parameters:\n",
        "    - subset (str): Specifies the subset of images, e.g., 'Normal' or 'Tuberculosis'.\n",
        "    - img_size (tuple): Tuple representing the desired size of the images after resizing.\n",
        "    - grayscale (bool): If True, convert images to grayscale.\n",
        "\n",
        "    Returns:\n",
        "    - numpy_array (numpy.ndarray): NumPy array containing the transformed images.\n",
        "    \"\"\"\n",
        "    image_dir = f'{dir_path}/{subset}/'\n",
        "    image_files = os.listdir(image_dir)\n",
        "    image_count = len(image_files)\n",
        "    transformed_images = []\n",
        "\n",
        "    for i in tqdm(range(1, image_count + 1), desc='Transforming...'):\n",
        "        image_path = f'{image_dir}/{subset}-{i}.png'\n",
        "        image = Image.open(image_path)\n",
        "\n",
        "        # Ensure all images are in the same format\n",
        "        if grayscale:\n",
        "            image = image.convert('L')  # Convert to grayscale\n",
        "        else:\n",
        "            image = image.convert('RGB')  # Convert to RGB\n",
        "\n",
        "        # Resize all images to the specified size without padding\n",
        "        resized_image = image.resize(img_size)\n",
        "        data = np.asarray(resized_image)\n",
        "        transformed_images.append(data)\n",
        "\n",
        "    numpy_array = np.array(transformed_images)\n",
        "    return numpy_array"
      ],
      "metadata": {
        "id": "7NJDgMoI7r-2"
      },
      "execution_count": 13,
      "outputs": []
    },
    {
      "cell_type": "code",
      "source": [
        "norm = numpize(subset='Normal',\n",
        "               img_size=(128, 128),\n",
        "               grayscale=False)\n",
        "norm.shape\n",
        "\n",
        "'''file_path = \"/content/drive/MyDrive/norm_array.npy\"\n",
        "np.save(file_path, norm)'''"
      ],
      "metadata": {
        "colab": {
          "base_uri": "https://localhost:8080/",
          "height": 53
        },
        "id": "jHIxekns8Lw-",
        "outputId": "52474e1d-e1c6-464f-eef6-43ed8a1ea634"
      },
      "execution_count": 16,
      "outputs": [
        {
          "output_type": "stream",
          "name": "stderr",
          "text": [
            "Transforming...: 100%|██████████| 3500/3500 [01:07<00:00, 52.23it/s]\n"
          ]
        },
        {
          "output_type": "execute_result",
          "data": {
            "text/plain": [
              "'file_path = \"/content/drive/MyDrive/norm_array.npy\"\\nnp.save(file_path, norm)'"
            ],
            "application/vnd.google.colaboratory.intrinsic+json": {
              "type": "string"
            }
          },
          "metadata": {},
          "execution_count": 16
        }
      ]
    },
    {
      "cell_type": "code",
      "source": [
        "tb = numpize(subset='Tuberculosis',\n",
        "             img_size=(128, 128),\n",
        "             grayscale=False)\n",
        "tb.shape\n",
        "file_path1 = \"/content/drive/MyDrive/tb_array.npy\"\n",
        "np.save(file_path1, norm)"
      ],
      "metadata": {
        "colab": {
          "base_uri": "https://localhost:8080/"
        },
        "id": "SYPH9ZRT8Oz8",
        "outputId": "01c8ef2c-bd91-417b-d06c-33d490b682b6"
      },
      "execution_count": 17,
      "outputs": [
        {
          "output_type": "stream",
          "name": "stderr",
          "text": [
            "Transforming...: 100%|██████████| 700/700 [00:09<00:00, 73.01it/s]\n"
          ]
        }
      ]
    },
    {
      "cell_type": "code",
      "source": [
        "norm = np.load(\"/content/drive/MyDrive/norm_array.npy\")\n",
        "norm.shape"
      ],
      "metadata": {
        "colab": {
          "base_uri": "https://localhost:8080/"
        },
        "id": "jNQACUVsG9z3",
        "outputId": "200dedfd-579a-4700-ad7f-5e9ea82ff905"
      },
      "execution_count": 20,
      "outputs": [
        {
          "output_type": "execute_result",
          "data": {
            "text/plain": [
              "(3500, 128, 128, 3)"
            ]
          },
          "metadata": {},
          "execution_count": 20
        }
      ]
    },
    {
      "cell_type": "code",
      "source": [
        "tb = np.load(\"/content/drive/MyDrive/tb_array.npy\")\n",
        "tb.shape"
      ],
      "metadata": {
        "colab": {
          "base_uri": "https://localhost:8080/"
        },
        "id": "CEx3gX7WHN-G",
        "outputId": "5bb33a6c-2dea-409c-a54f-13e981a0f8d3"
      },
      "execution_count": 21,
      "outputs": [
        {
          "output_type": "execute_result",
          "data": {
            "text/plain": [
              "(3500, 128, 128, 3)"
            ]
          },
          "metadata": {},
          "execution_count": 21
        }
      ]
    },
    {
      "cell_type": "code",
      "source": [
        "X = np.concatenate((norm, tb_augmented), axis=0)"
      ],
      "metadata": {
        "id": "WAvr7IG7uqa0"
      },
      "execution_count": 22,
      "outputs": []
    },
    {
      "cell_type": "code",
      "source": [
        "target_norm = np.zeros(norm.shape[0])\n",
        "print(f'Shape: {target_norm.shape[0]}, array: {target_norm}')"
      ],
      "metadata": {
        "colab": {
          "base_uri": "https://localhost:8080/"
        },
        "id": "FhTSwbe98xER",
        "outputId": "6c38f01d-86c8-4b04-fac5-57154fe1da09"
      },
      "execution_count": 23,
      "outputs": [
        {
          "output_type": "stream",
          "name": "stdout",
          "text": [
            "Shape: 3500, array: [0. 0. 0. ... 0. 0. 0.]\n"
          ]
        }
      ]
    },
    {
      "cell_type": "code",
      "source": [
        "y = np.concatenate((target_norm,  target_tb_augmented), axis=0)"
      ],
      "metadata": {
        "id": "F6pGVdSeuuv_"
      },
      "execution_count": 24,
      "outputs": []
    },
    {
      "cell_type": "code",
      "source": [
        "X.shape"
      ],
      "metadata": {
        "id": "6Gdk2Uhjuw5c",
        "colab": {
          "base_uri": "https://localhost:8080/"
        },
        "outputId": "7520aa23-44c1-4a15-d7c2-6e103ebba361"
      },
      "execution_count": 25,
      "outputs": [
        {
          "output_type": "execute_result",
          "data": {
            "text/plain": [
              "(7000, 128, 128, 3)"
            ]
          },
          "metadata": {},
          "execution_count": 25
        }
      ]
    },
    {
      "cell_type": "code",
      "source": [
        "y.shape"
      ],
      "metadata": {
        "id": "KeH5co8su0Uc",
        "colab": {
          "base_uri": "https://localhost:8080/"
        },
        "outputId": "3e995dd6-6943-4cf6-d7e5-71b9e76d2ac9"
      },
      "execution_count": 26,
      "outputs": [
        {
          "output_type": "execute_result",
          "data": {
            "text/plain": [
              "(7000,)"
            ]
          },
          "metadata": {},
          "execution_count": 26
        }
      ]
    },
    {
      "cell_type": "code",
      "source": [
        "import pandas as pd"
      ],
      "metadata": {
        "id": "cQPsiAxdu2Kc"
      },
      "execution_count": 27,
      "outputs": []
    },
    {
      "cell_type": "code",
      "source": [
        "y_df = pd.DataFrame(y)\n",
        "y_df.value_counts()"
      ],
      "metadata": {
        "id": "Vbo1IzJGu8HX",
        "colab": {
          "base_uri": "https://localhost:8080/"
        },
        "outputId": "d84c594f-2875-49b7-d4b9-85777a5e8226"
      },
      "execution_count": 28,
      "outputs": [
        {
          "output_type": "execute_result",
          "data": {
            "text/plain": [
              "0.0    3500\n",
              "1.0    3500\n",
              "dtype: int64"
            ]
          },
          "metadata": {},
          "execution_count": 28
        }
      ]
    },
    {
      "cell_type": "code",
      "source": [
        "import tensorflow as tf\n",
        "from tensorflow.keras.models import Sequential\n",
        "from tensorflow.keras.layers import Conv2D, MaxPooling2D, AveragePooling2D, Flatten, Dropout, Dense"
      ],
      "metadata": {
        "id": "nyAMrGxJu9yU"
      },
      "execution_count": 29,
      "outputs": []
    },
    {
      "cell_type": "code",
      "source": [
        "class CNN:\n",
        "    def __init__(self,\n",
        "                 input_shape=(128, 128, 3),\n",
        "                 unit_size_rate=0.05,\n",
        "                 conv_padding='same',\n",
        "                 conv_kernel_size=(3, 3),\n",
        "                 conv_stride=1,\n",
        "                 pool_padding='same',\n",
        "                 pool_kernel_size=(2, 2),\n",
        "                 pool_stride=2,\n",
        "                 dropout=0,\n",
        "                 l1_lambda=None,\n",
        "                 l2_lambda=None,\n",
        "                 pooling_type='max',\n",
        "                 epochs=5,\n",
        "                 batch_size=64,\n",
        "                 verbose=1):\n",
        "        self.input_shape = input_shape\n",
        "        self.unit_size_rate = unit_size_rate\n",
        "        self.conv_padding = conv_padding\n",
        "        self.conv_kernel_size = conv_kernel_size\n",
        "        self.conv_stride = conv_stride\n",
        "        self.pool_padding = pool_padding\n",
        "        self.pool_kernel_size = pool_kernel_size\n",
        "        self.pool_stride = pool_stride\n",
        "        self.dropout = dropout\n",
        "        self.l1_lambda = l1_lambda\n",
        "        self.l2_lambda = l2_lambda\n",
        "        self.pooling_type = pooling_type\n",
        "        self.epochs = epochs\n",
        "        self.batch_size = batch_size\n",
        "        self.verbose = verbose\n",
        "        self.model = self.build_model()\n",
        "\n",
        "    def build_model(self):\n",
        "        reg_l1 = None\n",
        "        reg_l2 = None\n",
        "\n",
        "        if self.l1_lambda is not None:\n",
        "            reg_l1 = tf.keras.regularizers.l1(self.l1_lambda)\n",
        "\n",
        "        if self.l2_lambda is not None:\n",
        "            reg_l2 = tf.keras.regularizers.l2(self.l2_lambda)\n",
        "\n",
        "        if len(self.input_shape) == 2:\n",
        "            # Add color channel for grayscale images\n",
        "            self.input_shape = self.input_shape + (1,)\n",
        "\n",
        "        model = Sequential()\n",
        "        model.add(Conv2D(\n",
        "            int(32 * self.unit_size_rate),\n",
        "            self.conv_kernel_size,\n",
        "            strides=self.conv_stride,\n",
        "            padding=self.conv_padding,\n",
        "            activation='relu',\n",
        "            kernel_regularizer=reg_l1,\n",
        "            input_shape=self.input_shape))\n",
        "\n",
        "        if self.pooling_type == 'max':\n",
        "            model.add(MaxPooling2D(\n",
        "                pool_size=self.pool_kernel_size,\n",
        "                strides=self.pool_stride,\n",
        "                padding=self.pool_padding))\n",
        "        elif self.pooling_type == 'avg':\n",
        "            model.add(AveragePooling2D(\n",
        "                pool_size=self.pool_kernel_size,\n",
        "                strides=self.pool_stride,\n",
        "                padding=self.pool_padding))\n",
        "        else:\n",
        "            raise ValueError(\"Invalid pooling_type. Use 'max' or 'avg'.\")\n",
        "\n",
        "        model.add(Conv2D(\n",
        "            int(64 * self.unit_size_rate),\n",
        "            self.conv_kernel_size,\n",
        "            strides=self.conv_stride,\n",
        "            padding=self.conv_padding,\n",
        "            kernel_regularizer=reg_l2,\n",
        "            activation='relu'))\n",
        "\n",
        "        if self.pooling_type == 'max':\n",
        "            model.add(MaxPooling2D(\n",
        "                pool_size=self.pool_kernel_size,\n",
        "                strides=self.pool_stride,\n",
        "                padding=self.pool_padding))\n",
        "        elif self.pooling_type == 'avg':\n",
        "            model.add(AveragePooling2D(\n",
        "                pool_size=self.pool_kernel_size,\n",
        "                strides=self.pool_stride,\n",
        "                padding=self.pool_padding))\n",
        "        else:\n",
        "            raise ValueError(\"Invalid pooling_type. Use 'max' or 'avg'.\")\n",
        "\n",
        "        model.add(Conv2D(\n",
        "            int(128 * self.unit_size_rate),\n",
        "            self.conv_kernel_size,\n",
        "            strides=self.conv_stride,\n",
        "            padding=self.conv_padding,\n",
        "            kernel_regularizer=reg_l2,\n",
        "            activation='relu'))\n",
        "\n",
        "        if self.pooling_type == 'max':\n",
        "            model.add(MaxPooling2D(\n",
        "                pool_size=self.pool_kernel_size,\n",
        "                strides=self.pool_stride,\n",
        "                padding=self.pool_padding))\n",
        "        elif self.pooling_type == 'avg':\n",
        "            model.add(AveragePooling2D(\n",
        "                pool_size=self.pool_kernel_size,\n",
        "                strides=self.pool_stride,\n",
        "                padding=self.pool_padding))\n",
        "        else:\n",
        "            raise ValueError(\"Invalid pooling_type. Use 'max' or 'avg'.\")\n",
        "\n",
        "        model.add(Flatten())\n",
        "        model.add(Dense(\n",
        "            units=int(128 * self.unit_size_rate),\n",
        "            activation='relu',\n",
        "            kernel_regularizer=reg_l2))\n",
        "\n",
        "        model.add(Dropout(self.dropout))\n",
        "        model.add(Dense(units=1, activation='sigmoid'))\n",
        "        model.compile(optimizer='adam', loss='binary_crossentropy', metrics=['accuracy'])\n",
        "        return model\n",
        "\n",
        "    def predict(self, X, threshold=0.5, verbose=0):\n",
        "        return (self.model.predict(X, verbose=verbose) > threshold).astype(\"int32\")\n",
        "\n",
        "    def summary(self):\n",
        "        self.model.summary()\n",
        "\n",
        "    def train(self, X_train, y_train, X_val, y_val, epochs, batch_size, verbose=1):\n",
        "        history = self.model.fit(\n",
        "            X_train, y_train,\n",
        "            batch_size=batch_size if batch_size else self.batch_size,\n",
        "            epochs=epochs if epochs else self.epochs,\n",
        "            verbose=verbose,\n",
        "            validation_data=(X_val, y_val)\n",
        "        )\n",
        "        return history"
      ],
      "metadata": {
        "id": "k2rtm0n_vvWN"
      },
      "execution_count": 30,
      "outputs": []
    },
    {
      "cell_type": "code",
      "source": [
        "cnn = CNN(unit_size_rate=1,\n",
        "          input_shape=(128,128,3))"
      ],
      "metadata": {
        "id": "dr5RL6l_v1ll"
      },
      "execution_count": 31,
      "outputs": []
    },
    {
      "cell_type": "code",
      "source": [
        "from sklearn.model_selection import train_test_split"
      ],
      "metadata": {
        "id": "Qebkr-5_v4Hf"
      },
      "execution_count": 32,
      "outputs": []
    },
    {
      "cell_type": "code",
      "source": [
        "def viz_class_distribution(X, y, title, classe_labels, train_percent=0.6, val_percent=0.2, test_percent=0.2):\n",
        "    '''\n",
        "    :Parameters:\n",
        "    - X (numpy array): The input feature matrix of shape (num_examples, num_features).\n",
        "    - y (numpy array): The target labels of shape (num_examples,).\n",
        "    - title (str): The title for the entire plot.\n",
        "    - classes (list): A list of class labels, e.g., ['Normal', 'Tuberculosis'].\n",
        "    - train_percent (float): Percentage of data for training set.\n",
        "    - val_percent (float): Percentage of data for validation set.\n",
        "    - test_percent (float): Percentage of data for test set.\n",
        "\n",
        "    :Returns:\n",
        "    - X_train, y_train, X_test, y_test, X_val, y_val: The subsets of the data.\n",
        "    '''\n",
        "    assert train_percent + val_percent + test_percent == 1.0, \"Sum of train_percent, val_percent, and test_percent should be 1.0\"\n",
        "\n",
        "    # Convert y to integers\n",
        "    y = y.astype(int)\n",
        "\n",
        "    # Split the data\n",
        "    X_train, X_temp, y_train, y_temp = train_test_split(\n",
        "        X, y, test_size=val_percent + test_percent, random_state=42, stratify=y)\n",
        "\n",
        "    test_size = test_percent / (val_percent + test_percent)\n",
        "    X_val, X_test, y_val, y_test = train_test_split(\n",
        "        X_temp, y_temp, test_size=test_size, random_state=42, stratify=y_temp)\n",
        "\n",
        "    # Create a subplot with 3 columns and 1 row\n",
        "    fig, axs = plt.subplots(1, 3, figsize=(15, 5))\n",
        "\n",
        "    # List of subset names\n",
        "    subset_names = ['Train', 'Test', 'Validation']\n",
        "    n = len(X)\n",
        "\n",
        "    # Iterate over subsets\n",
        "    for i, subset in enumerate([(X_train, y_train), (X_test, y_test), (X_val, y_val)]):\n",
        "        X_subset, y_subset = subset\n",
        "        n_subset = len(y_subset)\n",
        "        # Get the class counts\n",
        "        class_counts = np.bincount(y_subset)\n",
        "\n",
        "        # Plot histogram for the current subset\n",
        "        axs[i].bar(classe_labels, class_counts, color='#AA99FF')\n",
        "        subtitle = r'$\\bf{' + subset_names[i] + \\\n",
        "            '}$' + f' {int(n_subset/n*100)} %'\n",
        "        axs[i].set_title(\n",
        "            subtitle + f'\\n Size = {X_subset.shape[0]}', fontsize=18)\n",
        "        axs[i].set_xlabel('Class')\n",
        "        axs[i].set_ylabel('Number of examples')\n",
        "\n",
        "        # Add labels to the bars\n",
        "        for j, count in enumerate(class_counts):\n",
        "            axs[i].text(j, count, str(count), ha='center',\n",
        "                        va='bottom', fontsize=12)\n",
        "\n",
        "    class_counts = np.bincount(y)\n",
        "    class_balance_text = ' | '.join(\n",
        "        [f'{class_label} ({count})' for class_label, count in zip(classe_labels, class_counts)])\n",
        "    plt.suptitle(f'{title}' + f'\\n Training examples (X): {X.shape[0]}' +\n",
        "                 f'\\nTarget (y): {class_balance_text}', fontsize=20)\n",
        "\n",
        "    plt.tight_layout()\n",
        "    plt.show()\n",
        "\n",
        "    return X_train, y_train, X_test, y_test, X_val, y_val"
      ],
      "metadata": {
        "id": "ZKMYQrUXv9dk"
      },
      "execution_count": 34,
      "outputs": []
    },
    {
      "cell_type": "code",
      "source": [
        "X_train, y_train, X_test, y_test, X_val, y_val = viz_class_distribution(X=X,\n",
        "                        y=y,\n",
        "                        title='Class Distribution of Splitting',\n",
        "                        classe_labels=['Normal', 'Tuberculosis'],\n",
        "                        train_percent=0.8,\n",
        "                        val_percent=0.1,\n",
        "                        test_percent=0.1)"
      ],
      "metadata": {
        "id": "UCgSYgcVwA2d",
        "colab": {
          "base_uri": "https://localhost:8080/",
          "height": 330
        },
        "outputId": "77f435fe-9e37-4ca7-fd13-05cf2bdc932f"
      },
      "execution_count": 35,
      "outputs": [
        {
          "output_type": "display_data",
          "data": {
            "text/plain": [
              "<Figure size 1500x500 with 3 Axes>"
            ],
            "image/png": "[encoded data removed]"
          },
          "metadata": {}
        }
      ]
    },
    {
      "cell_type": "code",
      "source": [
        "model_config = {\n",
        "    # (height, width, channels)\n",
        "    'input_shape': (128, 128,3),\n",
        "    'unit_size_rate': 0.05,\n",
        "    'l1_lambda': None,\n",
        "    'l2_lambda': None,\n",
        "\n",
        "    'conv_padding': 'same',\n",
        "    'conv_kernel_size': (3, 3),\n",
        "    'conv_stride': 1,\n",
        "\n",
        "    'pool_padding': 'same',\n",
        "    'pool_kernel_size': (2, 2),\n",
        "    'pool_stride': 2,\n",
        "\n",
        "    'dropout': 0,\n",
        "    'pooling_type': 'max'\n",
        "}\n",
        "\n",
        "# Build model\n",
        "model_1st = CNN(**model_config).build_model()\n",
        "model_1st.summary()"
      ],
      "metadata": {
        "id": "lGdHdOjtwDEs",
        "colab": {
          "base_uri": "https://localhost:8080/"
        },
        "outputId": "d1f5ae8e-16db-4456-86b5-b6c59884473a"
      },
      "execution_count": 36,
      "outputs": [
        {
          "output_type": "stream",
          "name": "stdout",
          "text": [
            "Model: \"sequential_2\"\n",
            "_________________________________________________________________\n",
            " Layer (type)                Output Shape              Param #   \n",
            "=================================================================\n",
            " conv2d_6 (Conv2D)           (None, 128, 128, 1)       28        \n",
            "                                                                 \n",
            " max_pooling2d_6 (MaxPoolin  (None, 64, 64, 1)         0         \n",
            " g2D)                                                            \n",
            "                                                                 \n",
            " conv2d_7 (Conv2D)           (None, 64, 64, 3)         30        \n",
            "                                                                 \n",
            " max_pooling2d_7 (MaxPoolin  (None, 32, 32, 3)         0         \n",
            " g2D)                                                            \n",
            "                                                                 \n",
            " conv2d_8 (Conv2D)           (None, 32, 32, 6)         168       \n",
            "                                                                 \n",
            " max_pooling2d_8 (MaxPoolin  (None, 16, 16, 6)         0         \n",
            " g2D)                                                            \n",
            "                                                                 \n",
            " flatten_2 (Flatten)         (None, 1536)              0         \n",
            "                                                                 \n",
            " dense_4 (Dense)             (None, 6)                 9222      \n",
            "                                                                 \n",
            " dropout_2 (Dropout)         (None, 6)                 0         \n",
            "                                                                 \n",
            " dense_5 (Dense)             (None, 1)                 7         \n",
            "                                                                 \n",
            "=================================================================\n",
            "Total params: 9455 (36.93 KB)\n",
            "Trainable params: 9455 (36.93 KB)\n",
            "Non-trainable params: 0 (0.00 Byte)\n",
            "_________________________________________________________________\n"
          ]
        }
      ]
    },
    {
      "cell_type": "code",
      "source": [
        "import time"
      ],
      "metadata": {
        "id": "Ez8GoMJKwKsN"
      },
      "execution_count": 37,
      "outputs": []
    },
    {
      "cell_type": "code",
      "source": [
        "optimizer = tf.keras.optimizers.Adam()\n",
        "optimizer_config= optimizer.get_config()\n",
        "optimizer_config"
      ],
      "metadata": {
        "id": "lcb-jtiZwOgd",
        "colab": {
          "base_uri": "https://localhost:8080/"
        },
        "outputId": "d3f765aa-fa81-4ace-c6f6-326ff376a264"
      },
      "execution_count": 38,
      "outputs": [
        {
          "output_type": "execute_result",
          "data": {
            "text/plain": [
              "{'name': 'Adam',\n",
              " 'weight_decay': None,\n",
              " 'clipnorm': None,\n",
              " 'global_clipnorm': None,\n",
              " 'clipvalue': None,\n",
              " 'use_ema': False,\n",
              " 'ema_momentum': 0.99,\n",
              " 'ema_overwrite_frequency': None,\n",
              " 'jit_compile': False,\n",
              " 'is_legacy_optimizer': False,\n",
              " 'learning_rate': 0.001,\n",
              " 'beta_1': 0.9,\n",
              " 'beta_2': 0.999,\n",
              " 'epsilon': 1e-07,\n",
              " 'amsgrad': False}"
            ]
          },
          "metadata": {},
          "execution_count": 38
        }
      ]
    },
    {
      "cell_type": "code",
      "source": [
        "start_time = time.time()\n",
        "# verbose is progress bar; verbose = 1 display, verbose = don't display\n",
        "verbose = 1\n",
        "# Compile the model\n",
        "model_1st.compile(loss='binary_crossentropy',\n",
        "                   optimizer=optimizer,\n",
        "                   metrics='accuracy')\n",
        "\n",
        "# Train the model\n",
        "history = model_1st.fit(X_train, y_train,\n",
        "                             epochs=30,\n",
        "                             batch_size=64,\n",
        "                             validation_data=(X_val, y_val),\n",
        "                             verbose=verbose)\n",
        "\n",
        "end_time = time.time()\n",
        "training_time = end_time - start_time\n",
        "training_time"
      ],
      "metadata": {
        "id": "MJ8VIRYvwPLN"
      },
      "execution_count": null,
      "outputs": []
    },
    {
      "cell_type": "code",
      "source": [
        "print(f'Training time in minutes: {training_time/60:.2f} minutes')"
      ],
      "metadata": {
        "id": "KVH0XGrswTT9"
      },
      "execution_count": null,
      "outputs": []
    },
    {
      "cell_type": "code",
      "source": [
        "def get_history(history,\n",
        "                model,\n",
        "                training_time:float,\n",
        "                ref_name:str,\n",
        "                title:str):\n",
        "\n",
        "        best_epoch = np.argmax(history.history['val_accuracy'])\n",
        "        best_train_epoch = np.argmax(history.history['accuracy'])\n",
        "\n",
        "        # Create a 1x2 grid of subplots\n",
        "        fig, axes = plt.subplots(1, 2, figsize=(24, 15))\n",
        "\n",
        "        # Plot training and validation accuracy\n",
        "        axes[0].plot(history.epoch, history.history['accuracy'],\n",
        "                     label='Train Accuracy')\n",
        "        axes[0].plot(history.epoch, history.history['val_accuracy'],\n",
        "                     label='Validation Accuracy')\n",
        "        axes[0].scatter(best_epoch, history.history['val_accuracy']\n",
        "                        [best_epoch], color='r', label='Best Epoch (Validation)')\n",
        "        axes[0].scatter(best_train_epoch, history.history['accuracy']\n",
        "                        [best_train_epoch], color='g', label='Best Epoch (Train)')\n",
        "\n",
        "        # Annotate the best validation accuracy point\n",
        "        best_accuracy = history.history['val_accuracy'][best_epoch]\n",
        "        random_offset_x = 10\n",
        "        random_offset_y = np.random.randint(-30, 30)\n",
        "        axes[0].annotate(f'{best_accuracy:.3f}',\n",
        "                         xy=(best_epoch, best_accuracy),\n",
        "                         xytext=(random_offset_x, random_offset_y),\n",
        "                         textcoords='offset points',\n",
        "                         arrowprops=dict(arrowstyle='->'))\n",
        "\n",
        "        axes[0].set_xlabel('Epoch')\n",
        "        axes[0].set_ylabel('Accuracy (%)')\n",
        "        axes[0].set_title('Training and Validation Accuracy')\n",
        "        axes[0].legend()\n",
        "\n",
        "        # Annotate the best training accuracy point\n",
        "        best_train_accuracy = history.history['accuracy'][best_train_epoch]\n",
        "        random_offset_y = np.random.randint(-30, 30)\n",
        "        axes[0].annotate(f'{best_train_accuracy:.3f}',\n",
        "                         xy=(best_train_epoch, best_train_accuracy),\n",
        "                         xytext=(random_offset_x, random_offset_y),\n",
        "                         textcoords='offset points',\n",
        "                         arrowprops=dict(arrowstyle='->'))\n",
        "\n",
        "        # Plot training and validation loss\n",
        "        axes[1].plot(history.epoch,\n",
        "                    history.history['loss'], label='Train Loss')\n",
        "        axes[1].plot(history.epoch, history.history['val_loss'],\n",
        "                     label='Validation Loss')\n",
        "        axes[1].scatter(best_epoch, history.history['val_loss']\n",
        "                        [best_epoch], color='r', label='Best Epoch (Validation)')\n",
        "        axes[1].scatter(best_train_epoch,history.history['loss']\n",
        "                        [best_train_epoch], color='g', label='Best Epoch (Train)')\n",
        "        axes[1].set_xlabel('Epoch')\n",
        "        axes[1].set_ylabel('Loss')\n",
        "        axes[1].set_title('Training and Validation Loss')\n",
        "        axes[1].legend()\n",
        "\n",
        "        # Annotate the best validation loss point\n",
        "        best_loss = history.history['val_loss'][best_epoch]\n",
        "        random_offset_y = np.random.randint(-30, 30)\n",
        "        axes[1].annotate(f'{best_loss:.3f}',\n",
        "                         xy=(best_epoch, best_loss),\n",
        "                         xytext=(random_offset_x, random_offset_y),\n",
        "                         textcoords='offset points',\n",
        "                         arrowprops=dict(arrowstyle='->'))\n",
        "\n",
        "        # Annotate the best training loss point\n",
        "        best_train_loss = history.history['loss'][best_train_epoch]\n",
        "        random_offset_y = np.random.randint(-30, 30)\n",
        "        axes[1].annotate(f'{best_train_loss:.3f}',\n",
        "                         xy=(best_train_epoch, best_train_loss),\n",
        "                         xytext=(random_offset_x, random_offset_y),\n",
        "                         textcoords='offset points',\n",
        "                         arrowprops=dict(arrowstyle='->'))\n",
        "\n",
        "        # Calculate best validation accuracy in percentage\n",
        "        best_accuracy_percentage = round(best_accuracy * 100, 2)\n",
        "\n",
        "        # String for performance, accuracy, and training time\n",
        "        minutes = int(training_time // 60)\n",
        "        seconds = int(training_time % 60)\n",
        "\n",
        "        # model summary\n",
        "        stringlist = []\n",
        "        model.summary(print_fn=lambda x: stringlist.append(x))\n",
        "        short_model_summary = \"\\n\".join(stringlist)\n",
        "\n",
        "        # Set the text for the parameters on the right side\n",
        "        performance = r'$\\bf{' + f'Ref. name: {ref_name}' + '}$' + f\"\\nBest Validation Accuracy: {best_accuracy_percentage}%\" + \\\n",
        "            f\"\\nBest Train Accuracy: {history.history['accuracy'][best_train_epoch] * 100:.2f}%\" + \\\n",
        "            f\", Training Time: {minutes} minutes {seconds} seconds\"\n",
        "        fig.suptitle(r'$\\bf{' + title + '}$' +\n",
        "                     '\\n' + performance, fontsize=18)\n",
        "\n",
        "        fig.text(1.05, 1.00, r'$\\bf{' + 'Config Parameters:' + '}$', fontsize=16,\n",
        "                 color='black', ha='left', transform=plt.gcf().transFigure)\n",
        "\n",
        "        y_coord = 0.98  # Initial y-coordinate\n",
        "\n",
        "        # Set the line height between each parameter group and each parameter within a group\n",
        "        line_height = 0.028\n",
        "\n",
        "        for group, params in get_config.items():\n",
        "            fig.text(1.05, y_coord, r'$\\bf{' + f'{group}:' + '}$', fontsize=14,\n",
        "                     color='black', ha='left', transform=plt.gcf().transFigure)\n",
        "            y_coord -= line_height\n",
        "\n",
        "            for key, value in params.items():\n",
        "                fig.text(1.05, y_coord, f\"{key}: {value}\", fontsize=12,\n",
        "                         color='black', ha='left', transform=plt.gcf().transFigure)\n",
        "                y_coord -= line_height\n",
        "\n",
        "        fig.text(1.05, 0.01, r'$\\bf{' + f'Model Summary:' + '}$' + f'\\n{short_model_summary}',\n",
        "                 fontsize=10, color='black', ha='left', transform=plt.gcf().transFigure)\n",
        "\n",
        "        plt.tight_layout()\n",
        "        plt.show()"
      ],
      "metadata": {
        "id": "JerodLH-wV6M"
      },
      "execution_count": null,
      "outputs": []
    },
    {
      "cell_type": "code",
      "source": [
        "title = 'Experiment 1: Build 1st CNNs model'\n",
        "get_history(history=history,\n",
        "            model=model_1st,\n",
        "            training_time=training_time,\n",
        "            title=title,\n",
        "            ref_name='Original Dataset')"
      ],
      "metadata": {
        "id": "scEaXVTgwbPV"
      },
      "execution_count": null,
      "outputs": []
    },
    {
      "cell_type": "code",
      "source": [
        "import json\n",
        "from sklearn.metrics import classification_report, confusion_matrix, precision_score, recall_score, accuracy_score, roc_curve, roc_auc_score, f1_score"
      ],
      "metadata": {
        "id": "YDc3CIAwwdot"
      },
      "execution_count": null,
      "outputs": []
    },
    {
      "cell_type": "code",
      "source": [
        "def evaluate(estimator_name, estimator, X, y_actual, subset_name, training_time, threshold=None):\n",
        "\n",
        "        # Model Prediction/Y hat\n",
        "        y_pred = estimator.predict(\n",
        "            X)\n",
        "        # Handling Output Layer of Activation='sigmoid'\n",
        "        threshold = threshold if threshold else 0.5\n",
        "        y_pred_binary = (y_pred > threshold).astype(int).flatten()\n",
        "\n",
        "        # Calculate ROC curve and AUC score\n",
        "        fpr, tpr, thresholds = roc_curve(y_actual, y_pred_binary)\n",
        "        auc_score = roc_auc_score(y_actual, y_pred_binary)\n",
        "        # Classification Report\n",
        "        report = classification_report(\n",
        "            y_actual, y_pred_binary, output_dict=True)\n",
        "        report_dict = json.loads(json.dumps(report))\n",
        "\n",
        "        # Extract precision and recall from report_dict\n",
        "        precision = report_dict['weighted avg']['precision']\n",
        "        recall = report_dict['weighted avg']['recall']\n",
        "        accuracy = report_dict['accuracy']\n",
        "        f1 = report_dict['weighted avg']['f1-score']\n",
        "\n",
        "        # Confusion Matrix\n",
        "        cm = confusion_matrix(y_actual, y_pred_binary)\n",
        "        TP = cm[0][0]\n",
        "        FP = cm[0][1]\n",
        "        FN = cm[1][0]\n",
        "        TN = cm[1][1]\n",
        "        total_seconds = training_time\n",
        "        minutes = int(training_time // 60)\n",
        "        seconds = int(training_time % 60)\n",
        "        training_time_ = \"{} minutes {} seconds\".format(minutes, seconds)\n",
        "\n",
        "        accuracy_train = history.history['accuracy']\n",
        "        accuracy_val = history.history['val_accuracy']\n",
        "\n",
        "        performance_info = {\n",
        "            'Model': estimator_name,\n",
        "            'accuracy_train': accuracy_train,\n",
        "            'accuracy_val': accuracy_val,\n",
        "            'Subset': subset_name,\n",
        "            'Training time': training_time_,\n",
        "            'Training in seconds': total_seconds,\n",
        "            'TP': TP,\n",
        "            'FP': FP,\n",
        "            'FN': FN,\n",
        "            'TN': TN,\n",
        "            'Precision': precision,\n",
        "            'Recall': recall,\n",
        "            'F1': f1,\n",
        "            'AUC': auc_score,\n",
        "            'Accuracy': accuracy,\n",
        "        }\n",
        "        return pd.DataFrame([performance_info])"
      ],
      "metadata": {
        "id": "Vasr8A_vwhwF"
      },
      "execution_count": null,
      "outputs": []
    },
    {
      "cell_type": "code",
      "source": [
        "evaluate(estimator_name='CNN',\n",
        "         estimator=model_1st,\n",
        "         X=X_train,\n",
        "         y_actual=y_train,\n",
        "         subset_name='Training',\n",
        "         training_time=training_time\n",
        "         )"
      ],
      "metadata": {
        "id": "LIPih67PwkbF"
      },
      "execution_count": null,
      "outputs": []
    },
    {
      "cell_type": "code",
      "source": [
        "evaluate(estimator_name='CNN',\n",
        "         estimator=model_1st,\n",
        "         X=X_test,\n",
        "         y_actual=y_test,\n",
        "         subset_name='Test',\n",
        "         training_time=training_time\n",
        "         )"
      ],
      "metadata": {
        "id": "j2JS4MjZwnDV"
      },
      "execution_count": null,
      "outputs": []
    },
    {
      "cell_type": "code",
      "source": [
        "def plot_confusion_matrix(y_actual, y_pred, subset_name):\n",
        "    y_pred_binary = (y_pred > 0.5).astype(int).flatten()\n",
        "    cm = confusion_matrix(y_actual, y_pred_binary)\n",
        "    labels = ['Negative', 'Positive']\n",
        "\n",
        "    # Extract TP, TN, FP, FN\n",
        "    tn, fp, fn, tp = cm.ravel()\n",
        "    sensitivity = tp / (tp + fn)  # Sensitivity or True Positive Rate\n",
        "    specificity = tn / (tn + fp)  # Specificity or True Negative Rate\n",
        "\n",
        "    plt.figure(figsize=(18, 9))\n",
        "    sns.heatmap(cm, annot=True, fmt='d', cmap='Blues',\n",
        "                xticklabels=labels, yticklabels=labels)\n",
        "\n",
        "\n",
        "\n",
        "    plt.xlabel('Predicted')\n",
        "    plt.ylabel('Actual')\n",
        "    plt.title(f'Confusion Matrix - {subset_name}\\n'\n",
        "              f'True Positives: {tp} | True Negatives: {tn}\\n'\n",
        "              f'False Positives: {fp} (Type I error) | False Negatives: {fn} (Type II error)\\n'\n",
        "              f'Sensitivity (True Positive Rate): {sensitivity:.4f} | Specificity (True Negative Rate): {specificity:.4f}',\n",
        "              loc='center', wrap=True)\n",
        "    plt.show()"
      ],
      "metadata": {
        "id": "Qe5YtyfKwrT1"
      },
      "execution_count": null,
      "outputs": []
    },
    {
      "cell_type": "code",
      "source": [
        "plot_confusion_matrix(y_actual=y_test,\n",
        "                      y_pred=y_pred_test,\n",
        "                      subset_name='Test')"
      ],
      "metadata": {
        "id": "gL7JBeL6wsr1"
      },
      "execution_count": null,
      "outputs": []
    },
    {
      "cell_type": "code",
      "source": [],
      "metadata": {
        "id": "7rJ47sHwwwd2"
      },
      "execution_count": null,
      "outputs": []
    }
  ]
}